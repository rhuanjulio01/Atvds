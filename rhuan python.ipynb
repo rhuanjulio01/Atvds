{
 "cells": [
  {
   "cell_type": "code",
   "execution_count": 33,
   "metadata": {},
   "outputs": [],
   "source": [
    "minhaLista=[76,92.3,'oi',True,4,76]"
   ]
  },
  {
   "cell_type": "code",
   "execution_count": 34,
   "metadata": {},
   "outputs": [],
   "source": [
    "#Letra A\n",
    "listaPitomba=['pitomba']"
   ]
  },
  {
   "cell_type": "code",
   "execution_count": 35,
   "metadata": {},
   "outputs": [],
   "source": [
    "minhaLista= minhaLista[:]+listaPitomba[:]"
   ]
  },
  {
   "cell_type": "code",
   "execution_count": 36,
   "metadata": {},
   "outputs": [
    {
     "name": "stdout",
     "output_type": "stream",
     "text": [
      "[76, 92.3, 'oi', True, 4, 76, 'pitomba']\n"
     ]
    }
   ],
   "source": [
    "print(minhaLista)"
   ]
  },
  {
   "cell_type": "code",
   "execution_count": 37,
   "metadata": {},
   "outputs": [],
   "source": [
    "#LetraB\n",
    "listaCibele=['cibele']"
   ]
  },
  {
   "cell_type": "code",
   "execution_count": 38,
   "metadata": {},
   "outputs": [],
   "source": [
    "minhaLista=minhaLista[:3]+listaCibele[:]+minhaLista[3:]"
   ]
  },
  {
   "cell_type": "code",
   "execution_count": 39,
   "metadata": {},
   "outputs": [
    {
     "name": "stdout",
     "output_type": "stream",
     "text": [
      "[76, 92.3, 'oi', 'cibele', True, 4, 76, 'pitomba']\n"
     ]
    }
   ],
   "source": [
    "print(minhaLista[:])"
   ]
  },
  {
   "cell_type": "code",
   "execution_count": 40,
   "metadata": {},
   "outputs": [],
   "source": [
    "#Letra C\n",
    "listaMais = [23]\n",
    "minhaLista[0]=minhaLista[0]+listaMais[0]"
   ]
  },
  {
   "cell_type": "code",
   "execution_count": 41,
   "metadata": {},
   "outputs": [
    {
     "name": "stdout",
     "output_type": "stream",
     "text": [
      "[99, 92.3, 'oi', 'cibele', True, 4, 76, 'pitomba']\n"
     ]
    }
   ],
   "source": [
    "print(minhaLista)"
   ]
  },
  {
   "cell_type": "code",
   "execution_count": 44,
   "metadata": {},
   "outputs": [
    {
     "name": "stdout",
     "output_type": "stream",
     "text": [
      "O indice de oi é 2\n"
     ]
    }
   ],
   "source": [
    "#Letra D\n",
    "if minhaLista[0]=='oi':\n",
    "    print('O indice de oi é zero')\n",
    "elif minhaLista[1]=='oi':\n",
    "    print('O indice de oi é 1')\n",
    "elif minhaLista[2]=='oi':\n",
    "    print('O indice de oi é 2')\n",
    "elif minhaLista[3]=='oi':\n",
    "    print('O indice de oi é 3')\n",
    "elif minhaLista[4]=='oi':\n",
    "    print('O indice de oi é 4')\n",
    "elif minhaLista[4]=='oi':\n",
    "    print('O indice de oi é 4')\n",
    "elif minhaLista[5] == 'oi' :\n",
    "    print(f'o oi está no indice 5')\n",
    "elif minhaLista[6] == 'oi' :\n",
    "    print(f'o oi está no indice 6')\n",
    "elif minhaLista[7] == 'oi' :\n",
    "    print(f'o oi está no indice 7')"
   ]
  },
  {
   "cell_type": "code",
   "execution_count": 42,
   "metadata": {},
   "outputs": [],
   "source": [
    "#Letra E\n",
    "minhaLista= minhaLista[:4]+minhaLista[5:]"
   ]
  },
  {
   "cell_type": "code",
   "execution_count": 43,
   "metadata": {},
   "outputs": [
    {
     "name": "stdout",
     "output_type": "stream",
     "text": [
      "[99, 92.3, 'oi', 'cibele', 4, 76, 'pitomba']\n"
     ]
    }
   ],
   "source": [
    "print(minhaLista)"
   ]
  }
 ],
 "metadata": {
  "kernelspec": {
   "display_name": "Python 3",
   "language": "python",
   "name": "python3"
  },
  "language_info": {
   "codemirror_mode": {
    "name": "ipython",
    "version": 3
   },
   "file_extension": ".py",
   "mimetype": "text/x-python",
   "name": "python",
   "nbconvert_exporter": "python",
   "pygments_lexer": "ipython3",
   "version": "3.11.9"
  }
 },
 "nbformat": 4,
 "nbformat_minor": 2
}

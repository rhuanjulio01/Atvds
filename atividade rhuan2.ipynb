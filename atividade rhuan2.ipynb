{
 "cells": [
  {
   "cell_type": "code",
   "execution_count": 25,
   "metadata": {},
   "outputs": [
    {
     "name": "stdout",
     "output_type": "stream",
     "text": [
      "40.702999999999996\n"
     ]
    }
   ],
   "source": [
    "anoDoCarro=int(input('Digite o ano do seu carro'))\n",
    "valorDoCarro=float(input('Digite o valor do seu carro'))\n",
    "if anoDoCarro<1990: print(valorDoCarro+(valorDoCarro*0.01))\n",
    "else: print(valorDoCarro+(valorDoCarro*0.015))"
   ]
  },
  {
   "cell_type": "code",
   "execution_count": 44,
   "metadata": {},
   "outputs": [
    {
     "ename": "ValueError",
     "evalue": "could not convert string to float: 'gerente'",
     "output_type": "error",
     "traceback": [
      "\u001b[1;31m---------------------------------------------------------------------------\u001b[0m",
      "\u001b[1;31mValueError\u001b[0m                                Traceback (most recent call last)",
      "Cell \u001b[1;32mIn[44], line 2\u001b[0m\n\u001b[0;32m      1\u001b[0m cargo\u001b[38;5;241m=\u001b[39m\u001b[38;5;28mint\u001b[39m(\u001b[38;5;28minput\u001b[39m(\u001b[38;5;124m\"\u001b[39m\u001b[38;5;124mDigite seu cargo\u001b[39m\u001b[38;5;124m\"\u001b[39m))\n\u001b[1;32m----> 2\u001b[0m salarioAntigo\u001b[38;5;241m=\u001b[39m\u001b[38;5;28;43mfloat\u001b[39;49m\u001b[43m(\u001b[49m\u001b[38;5;28;43minput\u001b[39;49m\u001b[43m(\u001b[49m\u001b[38;5;124;43m'\u001b[39;49m\u001b[38;5;124;43mDigite seu salario\u001b[39;49m\u001b[38;5;124;43m'\u001b[39;49m\u001b[43m)\u001b[49m\u001b[43m)\u001b[49m\n\u001b[0;32m      3\u001b[0m \u001b[38;5;28;01mif\u001b[39;00m cargo\u001b[38;5;241m==\u001b[39m\u001b[38;5;241m101\u001b[39m:\n\u001b[0;32m      4\u001b[0m     funcao\u001b[38;5;241m=\u001b[39m\u001b[38;5;124m'\u001b[39m\u001b[38;5;124mgerente\u001b[39m\u001b[38;5;124m'\u001b[39m\n",
      "\u001b[1;31mValueError\u001b[0m: could not convert string to float: 'gerente'"
     ]
    }
   ],
   "source": [
    "cargo=int(input(\"Digite seu cargo\"))\n",
    "salarioAntigo=float(input('Digite seu salario'))\n",
    "if cargo==101:\n",
    "    funcao='gerente'\n",
    "    aumento=salarioAntigo*0.1\n",
    "elif cargo==102:\n",
    "    funcao='engenheiro'\n",
    "    aumento=salarioAntigo*0.2\n",
    "elif cargo==103:\n",
    "    funcao=tecnico\n",
    "    aumento=salarioAntigo*0.3\n",
    "elif cargoDesconhecido:\n",
    "    salarioAntigo*0.4"
   ]
  }
 ],
 "metadata": {
  "kernelspec": {
   "display_name": "Python 3",
   "language": "python",
   "name": "python3"
  },
  "language_info": {
   "codemirror_mode": {
    "name": "ipython",
    "version": 3
   },
   "file_extension": ".py",
   "mimetype": "text/x-python",
   "name": "python",
   "nbconvert_exporter": "python",
   "pygments_lexer": "ipython3",
   "version": "3.11.9"
  }
 },
 "nbformat": 4,
 "nbformat_minor": 2
}

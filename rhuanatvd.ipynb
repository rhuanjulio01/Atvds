{
 "cells": [
  {
   "cell_type": "code",
   "execution_count": 24,
   "metadata": {},
   "outputs": [
    {
     "name": "stdout",
     "output_type": "stream",
     "text": [
      "Digite o ano do carro: \n",
      "1980\n",
      "Digite o preço do carro: \n",
      "3000.0\n",
      "o valor da taxa de 1% é de:  30.0\n"
     ]
    }
   ],
   "source": [
    "ano = int(input(print(\"Digite o ano do carro: \")))\n",
    "print (ano)\n",
    "preço = float(input(print(\"Digite o preço do carro: \")))\n",
    "print (preço)\n",
    "taxa1 = (1 / 100) * preço\n",
    "taxa2 = (1.5 / 100) * preço\n",
    "if (ano <= 1990):\n",
    "    print (\"o valor da taxa de 1% é de: \",taxa1)\n",
    "else:\n",
    "    print (\"o valor da taxa de 1.5% é de: \",taxa2)\n"
   ]
  },
  {
   "cell_type": "code",
   "execution_count": 1,
   "metadata": {},
   "outputs": [
    {
     "name": "stdout",
     "output_type": "stream",
     "text": [
      "Digite o seu salário: \n",
      "2300.0\n",
      "Qual seu cargo: \n",
      "102.0\n",
      "a diferença é:  460.0  seu salario novo é de:  2760.0\n"
     ]
    }
   ],
   "source": [
    "\n",
    "\n",
    "salario = float(input(print(\"Digite o seu salário: \")))\n",
    "print (salario)\n",
    "cargo = float(input(print(\"Qual seu cargo: \")))\n",
    "print (cargo)\n",
    "\n",
    "if (cargo == 101):\n",
    "    print (\"a diferença é: \", 10/100*salario,\" seu salario novo é de: \", 10/100*salario + salario )\n",
    "elif(cargo == 102):\n",
    "        print (\"a diferença é: \", 20/100*salario,\" seu salario novo é de: \", 20/100*salario + salario )\n",
    "elif (cargo == 103):\n",
    "        print (\"a diferença é: \", 30/100*salario,\" seu salario novo é de: \", 30/100*salario + salario )\n",
    "else: \n",
    "        print (\"a diferença é: \",40/100*salario,\" seu salario novo é de: \", 40/100*salario + salario )\n"
   ]
  }
 ],
 "metadata": {
  "kernelspec": {
   "display_name": "Python 3",
   "language": "python",
   "name": "python3"
  },
  "language_info": {
   "codemirror_mode": {
    "name": "ipython",
    "version": 3
   },
   "file_extension": ".py",
   "mimetype": "text/x-python",
   "name": "python",
   "nbconvert_exporter": "python",
   "pygments_lexer": "ipython3",
   "version": "3.11.9"
  }
 },
 "nbformat": 4,
 "nbformat_minor": 2
}
